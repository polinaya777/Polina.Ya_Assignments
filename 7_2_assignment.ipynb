{
  "cells": [
    {
      "cell_type": "markdown",
      "metadata": {
        "id": "xaGm1JWcXOFn"
      },
      "source": [
        "# Assignment 7.2\n",
        "\n",
        "\n",
        "> Replace all TODOs with your code.\n",
        ">\n",
        "> Do not change any other code and do not add/remove cells!"
      ]
    },
    {
      "cell_type": "markdown",
      "metadata": {
        "id": "eFudo-VaX3QV"
      },
      "source": [
        "## Servers"
      ]
    },
    {
      "cell_type": "markdown",
      "metadata": {
        "id": "XQnz02oFeHfA"
      },
      "source": [
        "### Task 1\n",
        "\n",
        "- Install Flask\n",
        "- Import the Flask module"
      ]
    },
    {
      "cell_type": "code",
      "execution_count": 2,
      "metadata": {
        "id": "Sma9C-8Ca8_W"
      },
      "outputs": [],
      "source": [
        "from flask import Flask\n",
        "\n",
        "# Create a Flask application instance\n",
        "\n",
        "app = Flask(__name__)"
      ]
    },
    {
      "cell_type": "markdown",
      "metadata": {
        "id": "ENfer6cQbC2E"
      },
      "source": [
        "### Task 2\n",
        "\n",
        " Implement a Flask route (GET /count-requests) that increments a request counter with each incoming request and returns the counter as a JSON response."
      ]
    },
    {
      "cell_type": "code",
      "execution_count": 3,
      "metadata": {
        "id": "v_3FDD4nbkaJ",
        "colab": {
          "base_uri": "https://localhost:8080/"
        },
        "outputId": "ce5b1947-8480-42e0-9070-af57fd208a09"
      },
      "outputs": [
        {
          "output_type": "stream",
          "name": "stdout",
          "text": [
            " * Serving Flask app '__main__'\n",
            " * Debug mode: on\n"
          ]
        },
        {
          "output_type": "stream",
          "name": "stderr",
          "text": [
            "INFO:werkzeug:\u001b[31m\u001b[1mWARNING: This is a development server. Do not use it in a production deployment. Use a production WSGI server instead.\u001b[0m\n",
            " * Running on http://127.0.0.1:5000\n",
            "INFO:werkzeug:\u001b[33mPress CTRL+C to quit\u001b[0m\n",
            "INFO:werkzeug: * Restarting with stat\n"
          ]
        }
      ],
      "source": [
        "from flask import jsonify\n",
        "\n",
        "request_counter = 0\n",
        "\n",
        "@app.route('/count-requests', methods=['GET'])\n",
        "def count_requests():\n",
        "    global request_counter\n",
        "    request_counter += 1\n",
        "    return jsonify({'request_count': request_counter})\n",
        "\n",
        "app.run(debug=True)"
      ]
    },
    {
      "cell_type": "markdown",
      "metadata": {
        "id": "PqvmBffdeL-k"
      },
      "source": [
        "### Task 3\n",
        "\n",
        "Implement a Flask route (POST /reset-counter) to reset the request counter to 0 when accessed."
      ]
    },
    {
      "cell_type": "code",
      "execution_count": 4,
      "metadata": {
        "id": "feIK0aMwchOF",
        "colab": {
          "base_uri": "https://localhost:8080/"
        },
        "outputId": "e351730c-b76e-4520-ef0f-7c2b12ef0f81"
      },
      "outputs": [
        {
          "output_type": "stream",
          "name": "stdout",
          "text": [
            " * Serving Flask app '__main__'\n",
            " * Debug mode: on\n"
          ]
        },
        {
          "output_type": "stream",
          "name": "stderr",
          "text": [
            "INFO:werkzeug:\u001b[31m\u001b[1mWARNING: This is a development server. Do not use it in a production deployment. Use a production WSGI server instead.\u001b[0m\n",
            " * Running on http://127.0.0.1:5000\n",
            "INFO:werkzeug:\u001b[33mPress CTRL+C to quit\u001b[0m\n",
            "INFO:werkzeug: * Restarting with stat\n"
          ]
        }
      ],
      "source": [
        "@app.route('/reset-counter', methods=['POST'])\n",
        "def reset_counter():\n",
        "    global request_counter\n",
        "    request_counter = 0\n",
        "    return jsonify({'message': 'Counter reset successful'})\n",
        "\n",
        "app.run(debug=True)"
      ]
    },
    {
      "cell_type": "markdown",
      "metadata": {
        "id": "tQ3HN2H0eRp8"
      },
      "source": [
        "### Task 4\n",
        "\n",
        "Add the following lines to the end of the script and run the server:"
      ]
    },
    {
      "cell_type": "code",
      "execution_count": 5,
      "metadata": {
        "id": "he5zZekNdXhq",
        "colab": {
          "base_uri": "https://localhost:8080/"
        },
        "outputId": "f0b0ceb7-16fe-4c9c-e329-eaf9cd2ed0aa"
      },
      "outputs": [
        {
          "output_type": "stream",
          "name": "stdout",
          "text": [
            " * Serving Flask app '__main__'\n",
            " * Debug mode: on\n"
          ]
        },
        {
          "output_type": "stream",
          "name": "stderr",
          "text": [
            "INFO:werkzeug:\u001b[31m\u001b[1mWARNING: This is a development server. Do not use it in a production deployment. Use a production WSGI server instead.\u001b[0m\n",
            " * Running on http://127.0.0.1:5000\n",
            "INFO:werkzeug:\u001b[33mPress CTRL+C to quit\u001b[0m\n",
            "INFO:werkzeug: * Restarting with stat\n"
          ]
        }
      ],
      "source": [
        "if __name__ == '__main__':\n",
        "    app.run(debug=True)"
      ]
    },
    {
      "cell_type": "markdown",
      "metadata": {
        "id": "KJCt5yDue__T"
      },
      "source": [
        "You should see an output indicating that the Flask development server is running. By default, it will be accessible at http://localhost:5000/ in your web browser."
      ]
    }
  ],
  "metadata": {
    "colab": {
      "provenance": [],
      "toc_visible": true
    },
    "kernelspec": {
      "display_name": "Python 3",
      "name": "python3"
    },
    "language_info": {
      "name": "python"
    }
  },
  "nbformat": 4,
  "nbformat_minor": 0
}