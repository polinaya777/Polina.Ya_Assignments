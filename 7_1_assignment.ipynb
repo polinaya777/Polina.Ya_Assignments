{
  "cells": [
    {
      "cell_type": "markdown",
      "metadata": {
        "id": "K-xXkt9Ztf7J"
      },
      "source": [
        "# Assignment 7.1\n",
        "\n",
        "> Replace all TODOs with your code.\n",
        ">\n",
        "> Do not change any other code and do not add/remove cells!"
      ]
    },
    {
      "cell_type": "code",
      "execution_count": null,
      "metadata": {
        "id": "sGdc6BbbALg9"
      },
      "outputs": [],
      "source": [
        "# Do not edit this cell\n",
        "\n",
        "from typing import List, Dict"
      ]
    },
    {
      "cell_type": "markdown",
      "metadata": {
        "id": "cfhcjaX0vXXa"
      },
      "source": [
        "## Clients"
      ]
    },
    {
      "cell_type": "markdown",
      "metadata": {
        "id": "Vlz14hyr6wV6"
      },
      "source": [
        "### Task 1\n",
        "\n",
        "Write a function that takes a GitHub repository name as input and uses the [GitHub Repository API](https://docs.github.com/en/rest/repos) to retrieve and return information about the specified repository, including:\n",
        "\n",
        "* Repository Name\n",
        "* Owner\n",
        "* Description\n",
        "* License (if available)\n",
        "* Creation Date\n",
        "\n",
        "Use the `requests` module for this task."
      ]
    },
    {
      "cell_type": "code",
      "execution_count": 5,
      "metadata": {
        "id": "vDYn-dRb7xIX",
        "colab": {
          "base_uri": "https://localhost:8080/"
        },
        "outputId": "e0634c3c-6e3f-4971-b59c-a00b03991087"
      },
      "outputs": [
        {
          "output_type": "execute_result",
          "data": {
            "text/plain": [
              "{'Repository Name': 'Hello-World',\n",
              " 'Owner': 'octocat',\n",
              " 'Description': 'My first repository on GitHub!',\n",
              " 'License': None,\n",
              " 'Creation Date': '26-01-2011 19:01:12'}"
            ]
          },
          "metadata": {},
          "execution_count": 5
        }
      ],
      "source": [
        "import requests\n",
        "from datetime import datetime\n",
        "from typing import Dict\n",
        "\n",
        "def get_repository_info(repo_name: str) -> Dict[str, str]:\n",
        "    url = f\"https://api.github.com/repos/{repo_name}\"\n",
        "    response = requests.get(url)\n",
        "    data = response.json()\n",
        "\n",
        "    if response.status_code == 200:\n",
        "        repo_info = {\n",
        "            \"Repository Name\": data.get('name'),\n",
        "            \"Owner\": data.get('owner', {}).get('login'),\n",
        "            \"Description\": data.get('description'),\n",
        "            \"License\": data.get('license').get('name') if data.get('license') else None,\n",
        "            \"Creation Date\": datetime.strptime(data.get('created_at'), \"%Y-%m-%dT%H:%M:%SZ\").strftime(\"%d-%m-%Y %H:%M:%S\")\n",
        "        }\n",
        "        return repo_info\n",
        "    else:\n",
        "        return f\"Error: {data.get('message')}\"\n",
        "\n",
        "get_repository_info(\"octocat/Hello-World\")"
      ]
    },
    {
      "cell_type": "markdown",
      "metadata": {
        "id": "0TC34gv79VEo"
      },
      "source": [
        "### Task 2\n",
        "\n",
        "Write a function that takes a GitHub repository name and uses the [GitHub Commits API](https://docs.github.com/en/rest/commits/commits) to retrieve and return information about the five most recent commits in a selected GitHub repository, including:\n",
        "* Commit Message\n",
        "* Author\n",
        "* Date\n",
        "* Link to the commit on GitHub\n",
        "\n",
        "Use the `requests` module for this task."
      ]
    },
    {
      "cell_type": "code",
      "execution_count": 8,
      "metadata": {
        "id": "Kf2284dT-atu",
        "colab": {
          "base_uri": "https://localhost:8080/"
        },
        "outputId": "13c5d5cd-532e-4600-b97b-a977f42f243f"
      },
      "outputs": [
        {
          "output_type": "execute_result",
          "data": {
            "text/plain": [
              "[{'Commit Message': 'Merge pull request #6 from Spaceghost/patch-1\\n\\nNew line at end of file.',\n",
              "  'Author': 'The Octocat',\n",
              "  'Date': '2012-03-06T23:06:50Z',\n",
              "  'Link': 'https://github.com/octocat/Hello-World/commit/7fd1a60b01f91b314f59955a4e4d4e80d8edf11d'},\n",
              " {'Commit Message': 'New line at end of file. --Signed off by Spaceghost',\n",
              "  'Author': 'Johnneylee Jack Rollins',\n",
              "  'Date': '2011-09-14T04:42:41Z',\n",
              "  'Link': 'https://github.com/octocat/Hello-World/commit/762941318ee16e59dabbacb1b4049eec22f0d303'},\n",
              " {'Commit Message': 'first commit',\n",
              "  'Author': 'cameronmcefee',\n",
              "  'Date': '2011-01-26T19:06:08Z',\n",
              "  'Link': 'https://github.com/octocat/Hello-World/commit/553c2077f0edc3d5dc5d17262f6aa498e69d6f8e'}]"
            ]
          },
          "metadata": {},
          "execution_count": 8
        }
      ],
      "source": [
        "import requests\n",
        "from typing import List, Dict\n",
        "\n",
        "def get_recent_commits(repo_name: str) -> List[Dict[str, str]]:\n",
        "    url = f\"https://api.github.com/repos/{repo_name}/commits\"\n",
        "    response = requests.get(url)\n",
        "    data = response.json()\n",
        "\n",
        "    if response.status_code == 200:\n",
        "        commits_info = []\n",
        "        for commit_data in data[:5]:\n",
        "            commit_info = {\n",
        "                \"Commit Message\": commit_data.get('commit', {}).get('message'),\n",
        "                \"Author\": commit_data.get('commit', {}).get('author', {}).get('name'),\n",
        "                \"Date\": commit_data.get('commit', {}).get('author', {}).get('date'),\n",
        "                \"Link\": commit_data.get('html_url')\n",
        "            }\n",
        "            commits_info.append(commit_info)\n",
        "        return commits_info\n",
        "    else:\n",
        "        return f\"Error: {data.get('message')}\"\n",
        "\n",
        "get_recent_commits(\"octocat/Hello-World\")"
      ]
    }
  ],
  "metadata": {
    "colab": {
      "provenance": []
    },
    "kernelspec": {
      "display_name": "Python 3",
      "name": "python3"
    },
    "language_info": {
      "name": "python"
    }
  },
  "nbformat": 4,
  "nbformat_minor": 0
}