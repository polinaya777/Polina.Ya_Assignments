{
  "cells": [
    {
      "cell_type": "markdown",
      "metadata": {
        "id": "oY7M_WqQy7zz"
      },
      "source": [
        "# Assignment 10.1\n",
        "\n",
        "> Replace all TODOs with your code. Do not change any other code."
      ]
    },
    {
      "cell_type": "code",
      "execution_count": 2,
      "metadata": {
        "id": "VCyU26bX_w89"
      },
      "outputs": [],
      "source": [
        "# Do not edit this cell\n",
        "\n",
        "import unittest\n",
        "import requests"
      ]
    },
    {
      "cell_type": "markdown",
      "metadata": {
        "id": "Jz8SYjAz0N8D"
      },
      "source": [
        "## Testing"
      ]
    },
    {
      "cell_type": "markdown",
      "metadata": {
        "id": "IHwd1Zzby7z1"
      },
      "source": [
        "### Task 1\n",
        "\n",
        "Let's consider the following function `calculate_average`:\n"
      ]
    },
    {
      "cell_type": "code",
      "execution_count": 5,
      "metadata": {
        "tags": [
          "task_1a"
        ],
        "id": "SH_LsE-E_w9E"
      },
      "outputs": [],
      "source": [
        "def calculate_average(numbers):\n",
        "    if not numbers:\n",
        "        raise ValueError(\"The list is empty.\")\n",
        "    return sum(numbers) / len(numbers)\n"
      ]
    },
    {
      "cell_type": "markdown",
      "metadata": {
        "id": "kJ1fZtLM_w9F"
      },
      "source": [
        "Now, write tests for several cases:\n",
        "- A simple case when the result is a whole number\n",
        "- In cases where the result is decimal, how do you compare them?\n",
        "- Case when the list is empty - what happens? Is `ZeroDivisionError` really what we want here? Let's change the implementation to raise `ValueError`."
      ]
    },
    {
      "cell_type": "code",
      "execution_count": 6,
      "metadata": {
        "tags": [
          "task_1b"
        ],
        "id": "3S7nxpTx_w9G",
        "colab": {
          "base_uri": "https://localhost:8080/"
        },
        "outputId": "36acf8d0-43a7-4588-a5ce-c7e5b8bd7d75"
      },
      "outputs": [
        {
          "output_type": "stream",
          "name": "stderr",
          "text": [
            "...\n",
            "----------------------------------------------------------------------\n",
            "Ran 3 tests in 0.013s\n",
            "\n",
            "OK\n"
          ]
        },
        {
          "output_type": "execute_result",
          "data": {
            "text/plain": [
              "<unittest.main.TestProgram at 0x7e0bcf5962c0>"
            ]
          },
          "metadata": {},
          "execution_count": 6
        }
      ],
      "source": [
        "class TestCalculateAverage(unittest.TestCase):\n",
        "\n",
        "    def test_calculate_average_whole(self):\n",
        "        \"\"\"Test case where the average is a whole number.\"\"\"\n",
        "        self.assertEqual(calculate_average([2, 3, 4]), 3)\n",
        "\n",
        "    def test_calculate_average_decimal(self):\n",
        "        \"\"\"Test case where the average is a decimal number.\"\"\"\n",
        "        # For comparing floating point numbers, use assertAlmostEqual due to potential rounding issues\n",
        "        self.assertAlmostEqual(calculate_average([1, 2, 3, 4]), 2.5)\n",
        "\n",
        "    def test_calculate_average_empty(self):\n",
        "        \"\"\"Test case where the list is empty.\"\"\"\n",
        "        # Check if ValueError is raised for an empty list\n",
        "        with self.assertRaises(ValueError):\n",
        "            calculate_average([])\n",
        "\n",
        "\n",
        "# To run the tests:\n",
        "unittest.main(argv=[''], exit=False)"
      ]
    },
    {
      "cell_type": "markdown",
      "metadata": {
        "id": "lL-ELM-Ay7z2"
      },
      "source": [
        "### Task 2\n",
        "\n",
        "Let's consider function `get_weather`. It makes an external request to get the weather in a given city. Obviously, the weather constantly changes, so we cannot rely on it in our tests.\n",
        "\n",
        "Let's write a test replacing the real request with a mock. Check that the request was called with the correct city."
      ]
    },
    {
      "cell_type": "code",
      "execution_count": 8,
      "metadata": {
        "id": "cibiSsjry7z3",
        "tags": [
          "task_2a"
        ]
      },
      "outputs": [],
      "source": [
        "def get_weather(city):\n",
        "    try:\n",
        "        response = requests.get(f\"https://api.weather.com/v1/weather?q={city}\")\n",
        "        if response.status_code == 200:\n",
        "            return response.json()\n",
        "        else:\n",
        "            return None\n",
        "    except requests.exceptions.RequestException:\n",
        "        return None\n"
      ]
    },
    {
      "cell_type": "code",
      "execution_count": 9,
      "metadata": {
        "tags": [
          "task_2b"
        ],
        "id": "Nc9vokJu_w9K",
        "colab": {
          "base_uri": "https://localhost:8080/"
        },
        "outputId": "5a60ef2e-b0ae-43c3-df02-c85d81f6d3d3"
      },
      "outputs": [
        {
          "output_type": "stream",
          "name": "stderr",
          "text": [
            "....\n",
            "----------------------------------------------------------------------\n",
            "Ran 4 tests in 0.014s\n",
            "\n",
            "OK\n"
          ]
        },
        {
          "output_type": "execute_result",
          "data": {
            "text/plain": [
              "<unittest.main.TestProgram at 0x7e0bcf596320>"
            ]
          },
          "metadata": {},
          "execution_count": 9
        }
      ],
      "source": [
        "from unittest.mock import patch\n",
        "\n",
        "class TestGetWeather(unittest.TestCase):\n",
        "\n",
        "    @patch('requests.get')\n",
        "    def test_get_weather_request_made(self, mock_get):\n",
        "        # Setup the mock to return a successful response\n",
        "        mock_get.return_value.status_code = 200\n",
        "        mock_get.return_value.json.return_value = {\"weather\": \"sunny\"}\n",
        "\n",
        "        city = \"London\"\n",
        "        get_weather(city)\n",
        "\n",
        "        # Assert that requests.get was called with the correct URL\n",
        "        mock_get.assert_called_once_with(f\"https://api.weather.com/v1/weather?q={city}\")\n",
        "\n",
        "# To run the tests (note - it will run all defined tests):\n",
        "unittest.main(argv=[''], exit=False)"
      ]
    }
  ],
  "metadata": {
    "colab": {
      "provenance": [],
      "toc_visible": true
    },
    "kernelspec": {
      "display_name": "venv",
      "language": "python",
      "name": "python3"
    },
    "language_info": {
      "codemirror_mode": {
        "name": "ipython",
        "version": 3
      },
      "file_extension": ".py",
      "mimetype": "text/x-python",
      "name": "python",
      "nbconvert_exporter": "python",
      "pygments_lexer": "ipython3",
      "version": "3.11.5"
    },
    "orig_nbformat": 4
  },
  "nbformat": 4,
  "nbformat_minor": 0
}