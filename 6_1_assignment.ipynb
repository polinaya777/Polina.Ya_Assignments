{
  "cells": [
    {
      "cell_type": "markdown",
      "metadata": {
        "id": "-89_Z_je0cfL"
      },
      "source": [
        "# Assignment 6.1\n",
        "\n",
        "> Replace all TODOs with your code.\n",
        ">\n",
        "> Do not change any other code and do not add/remove cells!"
      ]
    },
    {
      "cell_type": "markdown",
      "metadata": {
        "id": "w6E-GxTB0j4M"
      },
      "source": [
        "## Git\n",
        "\n",
        "This will not be a usual assignment, as we are not working with Python directly here. You will have eight tasks. Complete them one by one, and only in the end, submit a link to your repository (explained in Task 8) as the submission for your assignment."
      ]
    },
    {
      "cell_type": "markdown",
      "metadata": {
        "id": "iEwuf_DP0cfM"
      },
      "source": [
        "### Task 1\n",
        "\n",
        "Create an empty directory and initialize a git repository in it."
      ]
    },
    {
      "cell_type": "markdown",
      "metadata": {
        "id": "2z8HqsaK0cfN"
      },
      "source": [
        "### Task 2\n",
        "\n",
        "Create a file `app.py` and write a CLI app - a simple calculator: it should be able to add and subtract two numbers.\n"
      ]
    },
    {
      "cell_type": "markdown",
      "metadata": {
        "id": "IqjW7SGS0cfN"
      },
      "source": [
        "### Task 3\n",
        "\n",
        "Stage and commit your app. Write a meaningful commit message."
      ]
    },
    {
      "cell_type": "markdown",
      "metadata": {
        "id": "fceBNTpUnip6"
      },
      "source": [
        "### Task 4\n",
        "\n",
        "Now let's create a branch `feat-mul`. Checkout this branch and change the app to support multiplication also. Don't forget to commit your changes."
      ]
    },
    {
      "cell_type": "markdown",
      "metadata": {
        "id": "TlUZQiCXeE6R"
      },
      "source": [
        "### Task 5\n",
        "\n",
        "Return to the `main` branch and create a new branch `feat-div`. Checkout this branch and develop division support for your app. Don't forget to commit your changes.\n"
      ]
    },
    {
      "cell_type": "markdown",
      "metadata": {
        "id": "bOjtOKKOeE6T"
      },
      "source": [
        "### Task 6\n",
        "\n",
        "Return to the `main` branch. Here, you should have a basic version of the app that supports only addition and subtraction. With a new commit, create a `README.md` file that contains the user manual for your app.\n",
        "\n",
        "At this point, your tree of commits should look like this:\n",
        "\n",
        "```\n",
        " main-> (Readme)      feat-mul->(mul)         feat-div->(div)\n",
        "           |                      |                       |\n",
        "           |                      |                       |\n",
        "           +----------------------+-----------------------+\n",
        "           |\n",
        "     (first-commit)\n",
        "```"
      ]
    },
    {
      "cell_type": "markdown",
      "metadata": {
        "id": "WyZwtkbVeE6V"
      },
      "source": [
        "### Task 7\n",
        "\n",
        "Merge it!\n",
        "\n",
        "Merge all the changes from `feat-mul` and `feat-div` separately into `main`. Remove branch `feat-mul`, but leave `feat-div`."
      ]
    },
    {
      "cell_type": "markdown",
      "metadata": {
        "id": "OpQ8GkxKeE6X"
      },
      "source": [
        "### Task 8\n",
        "\n",
        "Create a repository on your personal Github and make it public. Push **all of your branches** to this repository, and as a submission, paste the link in the following cell."
      ]
    },
    {
      "cell_type": "markdown",
      "metadata": {
        "tags": [
          "task_8"
        ],
        "id": "JVtt3ozweE6Z"
      },
      "source": [
        "[My repo Git_Assignment](https://github.com/polinaya777/Git_Assignment)"
      ]
    }
  ],
  "metadata": {
    "colab": {
      "provenance": [],
      "toc_visible": true
    },
    "kernelspec": {
      "display_name": "venv",
      "language": "python",
      "name": "python3"
    },
    "language_info": {
      "codemirror_mode": {
        "name": "ipython",
        "version": 3
      },
      "file_extension": ".py",
      "mimetype": "text/x-python",
      "name": "python",
      "nbconvert_exporter": "python",
      "pygments_lexer": "ipython3",
      "version": "3.11.5"
    },
    "orig_nbformat": 4
  },
  "nbformat": 4,
  "nbformat_minor": 0
}
