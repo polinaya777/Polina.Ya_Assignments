{
  "cells": [
    {
      "cell_type": "markdown",
      "source": [],
      "metadata": {
        "id": "-D7OZebFBH5z"
      }
    },
    {
      "cell_type": "markdown",
      "metadata": {
        "id": "oY7M_WqQy7zz"
      },
      "source": [
        "# Assignment 10.2\n",
        "\n",
        "> Replace all TODOs with your code. Do not change any other code."
      ]
    },
    {
      "cell_type": "code",
      "execution_count": 2,
      "metadata": {
        "id": "DCZ2nU3KCFyk"
      },
      "outputs": [],
      "source": [
        "# Do not edit this cell\n",
        "\n",
        "import csv\n",
        "import unittest\n"
      ]
    },
    {
      "cell_type": "markdown",
      "metadata": {
        "id": "Jz8SYjAz0N8D"
      },
      "source": [
        "## Clean code"
      ]
    },
    {
      "cell_type": "markdown",
      "metadata": {
        "id": "IHwd1Zzby7z1"
      },
      "source": [
        "### Task 1\n",
        "\n",
        "You are given a function that reads a csv file with temperature measurements (see example below), converts Fahrenheit values to Celsius, calculates and prints some statistics, and writes to another file. It looks a bit messy, let's clean it up!\n",
        "\n",
        "Example file:\n",
        "```csv\n",
        "Temperature (F)\n",
        "78.5\n",
        "81.2\n",
        "75.9\n",
        "82.1\n",
        "```\n",
        "\n",
        "Do the steps below one by one, editing the code in the cell:\n",
        "1. Naming is so ambiguous and unclear, let's rename variables and function name with proper names.\n",
        "2. Are these comments really useful?\n",
        "3. This function does quite a lot, let's divide it in the way that each function does only one thing, and there's one main function that uses others.\n",
        "4. There seem to be some magic coefficients in the temperature conversion part; let's make them obvious.\n",
        "\n",
        "If you find any additional improvements, feel free to implement them and leave a comment under your code with an explanation."
      ]
    },
    {
      "cell_type": "code",
      "execution_count": 3,
      "metadata": {
        "tags": [
          "task_1"
        ],
        "id": "uBoo2azsCFyv"
      },
      "outputs": [],
      "source": [
        "# Constants for temperature conversion\n",
        "FAHRENHEIT_TO_CELSIUS_SCALE = 5 / 9\n",
        "FAHRENHEIT_TO_CELSIUS_OFFSET = 32\n",
        "\n",
        "\n",
        "def read_temperatures_from_csv(input_file_path):\n",
        "    \"\"\"Reads Fahrenheit temperatures from a CSV and returns a list of temperatures in Celsius.\"\"\"\n",
        "    temperatures_celsius = []\n",
        "    with open(input_file_path, 'r') as file:\n",
        "        reader = csv.reader(file)\n",
        "        next(reader)  # Skip header row\n",
        "        for row in reader:\n",
        "            temperature_fahrenheit = float(row[0])\n",
        "            temperature_celsius = (temperature_fahrenheit - FAHRENHEIT_TO_CELSIUS_OFFSET) * FAHRENHEIT_TO_CELSIUS_SCALE\n",
        "            temperatures_celsius.append(temperature_celsius)\n",
        "    return temperatures_celsius\n",
        "\n",
        "\n",
        "def calculate_statistics(temperatures):\n",
        "    \"\"\"Calculates and returns the average, minimum, and maximum of a list of temperatures.\"\"\"\n",
        "    average_temperature = sum(temperatures) / len(temperatures)\n",
        "    minimum_temperature = min(temperatures)\n",
        "    maximum_temperature = max(temperatures)\n",
        "    return average_temperature, minimum_temperature, maximum_temperature\n",
        "\n",
        "\n",
        "def write_temperatures_to_csv(temperatures, output_file_path):\n",
        "    \"\"\"Writes a list of Celsius temperatures to a CSV file.\"\"\"\n",
        "    with open(output_file_path, 'w', newline='') as file:\n",
        "        writer = csv.writer(file)\n",
        "        writer.writerow(['Temperature (C)'])\n",
        "        for temperature in temperatures:\n",
        "            writer.writerow([temperature])\n",
        "\n",
        "\n",
        "def print_statistics(average_temperature, minimum_temperature, maximum_temperature):\n",
        "    \"\"\"Prints the average, minimum, and maximum temperatures.\"\"\"\n",
        "    print(\"Statistics:\")\n",
        "    print(f\"Average: {average_temperature:.2f}°C\")\n",
        "    print(f\"Minimum: {minimum_temperature:.2f}°C\")\n",
        "    print(f\"Maximum: {maximum_temperature:.2f}°C\")\n",
        "\n",
        "\n",
        "def process_temperature_data(input_file_path, output_file_path):\n",
        "    \"\"\"Main function to process temperature data.\"\"\"\n",
        "    temperatures_celsius = read_temperatures_from_csv(input_file_path)\n",
        "    average_temperature, minimum_temperature, maximum_temperature = calculate_statistics(temperatures_celsius)\n",
        "    print_statistics(average_temperature, minimum_temperature, maximum_temperature)\n",
        "    write_temperatures_to_csv(temperatures_celsius, output_file_path)\n"
      ]
    },
    {
      "cell_type": "markdown",
      "metadata": {
        "id": "lL-ELM-Ay7z2"
      },
      "source": [
        "### Task 2\n",
        "\n",
        "How would you write tests for the initial implementation? What exactly would you test in the function?\n",
        "\n",
        "I hope you see now that once functionality is separated, it's easier to test it in isolation. So, let's write a couple of unit tests for your function and one integration test for your main function.\n",
        "\n",
        "Hint: you would probably want to mock reading from/writing to file to make the test independent from the environment."
      ]
    },
    {
      "cell_type": "code",
      "execution_count": 6,
      "metadata": {
        "id": "cibiSsjry7z3",
        "tags": [
          "task_2"
        ],
        "colab": {
          "base_uri": "https://localhost:8080/"
        },
        "outputId": "70c7f05f-96eb-4002-bd31-355df3f92e68"
      },
      "outputs": [
        {
          "output_type": "stream",
          "name": "stderr",
          "text": [
            "....\n",
            "----------------------------------------------------------------------\n",
            "Ran 4 tests in 0.025s\n",
            "\n",
            "OK\n"
          ]
        },
        {
          "output_type": "stream",
          "name": "stdout",
          "text": [
            "Statistics:\n",
            "Average: 26.34°C\n",
            "Minimum: 24.39°C\n",
            "Maximum: 27.83°C\n"
          ]
        },
        {
          "output_type": "execute_result",
          "data": {
            "text/plain": [
              "<unittest.main.TestProgram at 0x7c08ef720340>"
            ]
          },
          "metadata": {},
          "execution_count": 6
        }
      ],
      "source": [
        "import unittest\n",
        "from unittest.mock import patch, mock_open\n",
        "\n",
        "class UnitTestCase(unittest.TestCase):\n",
        "\n",
        "    @patch(\"builtins.open\", new_callable=mock_open, read_data=\"Temperature (F)\\n78.5\\n81.2\\n75.9\\n82.1\")\n",
        "    def test_read_temperatures_from_csv(self, mock_file):\n",
        "        # Test that temperatures are correctly read and converted from Fahrenheit to Celsius\n",
        "        result = read_temperatures_from_csv(\"fake_file.csv\")\n",
        "        expected = [(temp - 32) * 5 / 9 for temp in [78.5, 81.2, 75.9, 82.1]]\n",
        "\n",
        "        # Check that each pair of corresponding elements in 'result' and 'expected' are almost equal\n",
        "        for actual, exp in zip(result, expected):\n",
        "            self.assertAlmostEqual(actual, exp, places=7)\n",
        "\n",
        "    def test_calculate_statistics(self):\n",
        "        # Test statistics calculation\n",
        "        temperatures_celsius = [25.83, 27.33, 24.39, 27.83]\n",
        "        average, minimum, maximum = calculate_statistics(temperatures_celsius)\n",
        "        self.assertAlmostEqual(average, 26.345, places=2)\n",
        "        self.assertEqual(minimum, 24.39)\n",
        "        self.assertEqual(maximum, 27.83)\n",
        "\n",
        "    @patch(\"csv.writer\")\n",
        "    @patch(\"builtins.open\", new_callable=mock_open)\n",
        "    def test_write_temperatures_to_csv(self, mock_file, mock_csv_writer):\n",
        "        # Test that temperatures are correctly written to a CSV\n",
        "        temperatures_celsius = [25.83, 27.33]\n",
        "        write_temperatures_to_csv(temperatures_celsius, \"fake_output.csv\")\n",
        "        mock_file.assert_called_once_with(\"fake_output.csv\", 'w', newline='')\n",
        "        mock_csv_writer.return_value.writerow.assert_any_call(['Temperature (C)'])\n",
        "        mock_csv_writer.return_value.writerow.assert_any_call([25.83])\n",
        "        mock_csv_writer.return_value.writerow.assert_any_call([27.33])\n",
        "\n",
        "class IntegrationTestCase(unittest.TestCase):\n",
        "\n",
        "    @patch(\"__main__.write_temperatures_to_csv\")\n",
        "    @patch(\"__main__.read_temperatures_from_csv\")\n",
        "    def test_process_temperature_data(self, mock_read, mock_write):\n",
        "        # Integration test to ensure that the whole process works as expected\n",
        "        mock_read.return_value = [25.83, 27.33, 24.39, 27.83]\n",
        "        process_temperature_data(\"fake_input.csv\", \"fake_output.csv\")\n",
        "        mock_read.assert_called_once_with(\"fake_input.csv\")\n",
        "        mock_write.assert_called_once()\n",
        "\n",
        "\n",
        "unittest.main(argv=[''], exit=False)\n"
      ]
    }
  ],
  "metadata": {
    "colab": {
      "provenance": [],
      "toc_visible": true
    },
    "kernelspec": {
      "display_name": "venv",
      "language": "python",
      "name": "python3"
    },
    "language_info": {
      "codemirror_mode": {
        "name": "ipython",
        "version": 3
      },
      "file_extension": ".py",
      "mimetype": "text/x-python",
      "name": "python",
      "nbconvert_exporter": "python",
      "pygments_lexer": "ipython3",
      "version": "3.11.5"
    },
    "orig_nbformat": 4
  },
  "nbformat": 4,
  "nbformat_minor": 0
}