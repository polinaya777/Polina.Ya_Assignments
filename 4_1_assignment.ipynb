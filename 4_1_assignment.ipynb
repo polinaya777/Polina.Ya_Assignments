{
  "cells": [
    {
      "cell_type": "markdown",
      "metadata": {
        "id": "-89_Z_je0cfL"
      },
      "source": [
        "# Assignment 4.1\n",
        "\n",
        "> Replace all TODOs with your code.\n",
        ">\n",
        "> Do not change any other code and do not add/remove cells!"
      ]
    },
    {
      "cell_type": "markdown",
      "metadata": {
        "id": "w6E-GxTB0j4M"
      },
      "source": [
        "## Sets"
      ]
    },
    {
      "cell_type": "markdown",
      "metadata": {
        "id": "iEwuf_DP0cfM"
      },
      "source": [
        "### Task 1\n",
        "\n",
        "Create an empty set called 'my_set'."
      ]
    },
    {
      "cell_type": "code",
      "execution_count": 1,
      "metadata": {
        "id": "IWVOCWxx0cfM",
        "tags": [
          "task_1"
        ],
        "colab": {
          "base_uri": "https://localhost:8080/"
        },
        "outputId": "384c35a4-42a1-4c0d-d4b9-49a576b2fd87"
      },
      "outputs": [
        {
          "output_type": "stream",
          "name": "stdout",
          "text": [
            "set()\n"
          ]
        }
      ],
      "source": [
        "my_set = set()\n",
        "\n",
        "print(my_set)  # should print set()"
      ]
    },
    {
      "cell_type": "markdown",
      "metadata": {
        "id": "2z8HqsaK0cfN"
      },
      "source": [
        "### Task 2\n",
        "\n",
        "Let's turn a given sentence into a set of words.\n"
      ]
    },
    {
      "cell_type": "code",
      "execution_count": 3,
      "metadata": {
        "id": "kva_9ycA0cfN",
        "tags": [
          "task_2"
        ],
        "colab": {
          "base_uri": "https://localhost:8080/"
        },
        "outputId": "7ae4cc16-38a2-48a9-a892-069bc6934c02"
      },
      "outputs": [
        {
          "output_type": "stream",
          "name": "stdout",
          "text": [
            "{'acd', 'abc', 'cba'}\n"
          ]
        }
      ],
      "source": [
        "sentence = \"abc cba acd abc\"\n",
        "\n",
        "words = set(sentence.split())\n",
        "\n",
        "print(words)  # should be {'acd', 'cba', 'abc'} or in other order"
      ]
    },
    {
      "cell_type": "markdown",
      "metadata": {
        "id": "IqjW7SGS0cfN"
      },
      "source": [
        "### Task 3\n",
        "\n",
        "Now, let's remove from `words` all the words that are present in `sentence2`."
      ]
    },
    {
      "cell_type": "code",
      "execution_count": 5,
      "metadata": {
        "id": "p83RQvA40cfN",
        "tags": [
          "task_3"
        ],
        "colab": {
          "base_uri": "https://localhost:8080/"
        },
        "outputId": "7a3d72f7-6203-4f85-b499-a47888457b98"
      },
      "outputs": [
        {
          "output_type": "stream",
          "name": "stdout",
          "text": [
            "{'acd', 'abc'}\n"
          ]
        }
      ],
      "source": [
        "sentence2 = 'cba baa acc'\n",
        "\n",
        "words -= set(sentence2.split())\n",
        "\n",
        "print(words)  # should print {'acd', 'abc'} or {'abc', 'acd'}"
      ]
    },
    {
      "cell_type": "markdown",
      "metadata": {
        "id": "fceBNTpUnip6"
      },
      "source": [
        "### Task 4\n",
        "\n",
        "Let's now play around with statistics and probability!\n",
        "\n",
        "Generate `N` random numbers in the range `[1, N]` and keep track of a percent of unique numbers in the result.\n",
        "Play around with different values of `N`; how does it affect the percentage of unique numbers? How do you think why?"
      ]
    },
    {
      "cell_type": "code",
      "execution_count": 9,
      "metadata": {
        "id": "VsoALrbBnsjs",
        "tags": [
          "task_4"
        ],
        "colab": {
          "base_uri": "https://localhost:8080/"
        },
        "outputId": "585a0970-b613-42d1-e331-7dd65858a31c"
      },
      "outputs": [
        {
          "output_type": "stream",
          "name": "stdout",
          "text": [
            "For N=10, unique percentage: 70.0%\n",
            "For N=100, unique percentage: 58.0%\n",
            "For N=1000, unique percentage: 62.2%\n",
            "For N=10000, unique percentage: 63.55%\n",
            "For N=100000, unique percentage: 63.33%\n",
            "For N=10000000, unique percentage: 63.22%\n"
          ]
        }
      ],
      "source": [
        "from random import randint\n",
        "\n",
        "N = 10000000\n",
        "\n",
        "# Function that calculates percent of unique numbers in the generated range [1, N]\n",
        "def calculate_unique_percentage(N: int) -> float:\n",
        "    numbers = [randint(1, N) for _ in range(N)]\n",
        "    unique_numbers = set(numbers)\n",
        "    return len(unique_numbers) / N * 100\n",
        "\n",
        "# Test with different values of N\n",
        "for N in [10, 100, 1000, 10000, 100000, 10000000]:\n",
        "    print(f\"For N={N}, unique percentage: {round(calculate_unique_percentage(N), 2)}%\")"
      ]
    },
    {
      "cell_type": "markdown",
      "metadata": {
        "id": "i97oe-zR9xP_"
      },
      "source": [
        "For math geeks: if you set rather big `N`, you see that the percentage is slowly approaching ~63.21. It is a modification of a [Birthday problem](https://en.wikipedia.org/wiki/Birthday_problem), but a simpler and more relevant explanation is [here](https://math.stackexchange.com/questions/5775/how-many-bins-do-random-numbers-fill).\n"
      ]
    },
    {
      "cell_type": "markdown",
      "metadata": {
        "id": "MJ03abgc9xQA"
      },
      "source": [
        "## Dictionaries"
      ]
    },
    {
      "cell_type": "markdown",
      "metadata": {
        "id": "NYrbhOY19xQA"
      },
      "source": [
        "### Task 5\n",
        "\n",
        "You are given a matrix `m`. Return a distinct list containing all the values that are present in at least `n` rows.\n",
        "\n",
        "Hint: there can be duplicates in rows; perhaps we would want to eliminate them - how?"
      ]
    },
    {
      "cell_type": "code",
      "execution_count": 10,
      "metadata": {
        "id": "tBxoArVb9xQA",
        "colab": {
          "base_uri": "https://localhost:8080/"
        },
        "outputId": "e1f65ad4-c0b3-4354-d366-4c4455324fef"
      },
      "outputs": [
        {
          "output_type": "stream",
          "name": "stdout",
          "text": [
            "[1, 2, 7]\n"
          ]
        }
      ],
      "source": [
        "m = [\n",
        "    [1, 1, 2, 3],\n",
        "    [1, 2, 6, 7],\n",
        "    [1, 7, 9, 9]\n",
        "]\n",
        "\n",
        "n = 2\n",
        "res = []\n",
        "\n",
        "def find_common_elements(m: list[list[int]], n: int) -> list[int]:\n",
        "    # Convert each row to a set to eliminate duplicates, then flatten the list\n",
        "    flattened = [element for row in m for element in set(row)]\n",
        "    # Count the occurrences of each element\n",
        "    counter = {}\n",
        "    for element in flattened:\n",
        "        if element in counter:\n",
        "            counter[element] += 1\n",
        "        else:\n",
        "            counter[element] = 1\n",
        "    # Return a list of elements that appear in at least n rows\n",
        "    return [element for element, count in counter.items() if count >= n]\n",
        "\n",
        "res = find_common_elements(m, n)\n",
        "print(res)  # should print [1, 2, 7]"
      ]
    },
    {
      "cell_type": "markdown",
      "source": [],
      "metadata": {
        "id": "zRv06wAw9IT_"
      }
    }
  ],
  "metadata": {
    "colab": {
      "provenance": [],
      "toc_visible": true
    },
    "kernelspec": {
      "display_name": "venv",
      "language": "python",
      "name": "python3"
    },
    "language_info": {
      "codemirror_mode": {
        "name": "ipython",
        "version": 3
      },
      "file_extension": ".py",
      "mimetype": "text/x-python",
      "name": "python",
      "nbconvert_exporter": "python",
      "pygments_lexer": "ipython3",
      "version": "3.11.5"
    },
    "orig_nbformat": 4
  },
  "nbformat": 4,
  "nbformat_minor": 0
}