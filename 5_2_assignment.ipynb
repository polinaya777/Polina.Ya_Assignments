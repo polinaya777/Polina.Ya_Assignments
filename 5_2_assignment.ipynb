{
  "cells": [
    {
      "cell_type": "markdown",
      "metadata": {
        "id": "-89_Z_je0cfL"
      },
      "source": [
        "# Assignment 5.2\n",
        "\n",
        "> Replace all TODOs with your code.\n",
        ">\n",
        "> Do not change any other code and do not add/remove cells!"
      ]
    },
    {
      "cell_type": "code",
      "execution_count": 2,
      "metadata": {
        "id": "FC70v-1MMOVN"
      },
      "outputs": [],
      "source": [
        "# Do not edit this cell\n",
        "\n",
        "from typing import List, Callable"
      ]
    },
    {
      "cell_type": "markdown",
      "metadata": {
        "id": "w6E-GxTB0j4M"
      },
      "source": [
        "## Decorators"
      ]
    },
    {
      "cell_type": "markdown",
      "metadata": {
        "id": "iEwuf_DP0cfM"
      },
      "source": [
        "### Task 1\n",
        "\n",
        "As you know, the functions are objects and can be passed around the program. Let's write a function `apply` that would take a list and another function. Then, you should apply the function to each element of the list."
      ]
    },
    {
      "cell_type": "code",
      "execution_count": 5,
      "metadata": {
        "id": "IWVOCWxx0cfM",
        "tags": [
          "task_1"
        ],
        "colab": {
          "base_uri": "https://localhost:8080/"
        },
        "outputId": "f757861f-745b-4ca7-b3a3-337132e0fe32"
      },
      "outputs": [
        {
          "output_type": "stream",
          "name": "stdout",
          "text": [
            "[2, 4, 6]\n",
            "[4, 8, 12]\n"
          ]
        }
      ],
      "source": [
        "def apply(li: List[int], func: Callable[[int], int]) -> List[int]:\n",
        "    return [func(x) for x in li]\n",
        "\n",
        "\n",
        "a = [1, 2, 3]\n",
        "def times_2(num: int) -> int:\n",
        "    return num * 2\n",
        "\n",
        "a = apply(a, times_2)\n",
        "print(a)  # should print [2, 4, 6]\n",
        "\n",
        "a = list(map(times_2, a))\n",
        "print(a)"
      ]
    },
    {
      "cell_type": "markdown",
      "metadata": {
        "id": "iBomxDq7MOVY"
      },
      "source": [
        "By the way, this is a common pattern often called \"map\", but instead of applying the changes in place, it usually creates a new list. There's a built-in `map` function in Python that works similarly, but instead of creating a list, it creates an iterable."
      ]
    },
    {
      "cell_type": "markdown",
      "metadata": {
        "id": "2z8HqsaK0cfN"
      },
      "source": [
        "### Task 2\n",
        "\n",
        "Sometimes, it doesn't make sense to declare a function with a name just to apply it once. Here, the lambda function (or anonymous functions) comes to help. Use [lambda syntax](https://www.w3schools.com/python/python_lambda.asp) to call `apply`.\n"
      ]
    },
    {
      "cell_type": "code",
      "execution_count": 6,
      "metadata": {
        "id": "kva_9ycA0cfN",
        "tags": [
          "task_2"
        ],
        "colab": {
          "base_uri": "https://localhost:8080/"
        },
        "outputId": "f828c20d-1dcf-408a-cf48-acf4545c477d"
      },
      "outputs": [
        {
          "output_type": "stream",
          "name": "stdout",
          "text": [
            "[8, 10, 12]\n"
          ]
        }
      ],
      "source": [
        "b = [4, 5, 6]\n",
        "\n",
        "b = apply(b, lambda x: x * 2)\n",
        "\n",
        "print(b)  # should print [8, 10, 12]"
      ]
    },
    {
      "cell_type": "markdown",
      "metadata": {
        "id": "IqjW7SGS0cfN"
      },
      "source": [
        "### Task 3\n",
        "\n",
        "For different reasons, we might want to limit the visibility scope of a function and declare it inside another function.\n",
        "\n",
        "Write a function `sum_even(li: List[int]) -> int` that will return the sum of only even elements of `li`. Define an inner function `is_even(num: int) -> bool` for convenience."
      ]
    },
    {
      "cell_type": "code",
      "execution_count": 7,
      "metadata": {
        "id": "p83RQvA40cfN",
        "tags": [
          "task_3"
        ],
        "colab": {
          "base_uri": "https://localhost:8080/"
        },
        "outputId": "db41d506-7328-4a74-b93b-2f062fa21343"
      },
      "outputs": [
        {
          "output_type": "stream",
          "name": "stdout",
          "text": [
            "12\n"
          ]
        }
      ],
      "source": [
        "def sum_even(li: List[int]) -> int:\n",
        "    def is_even(num: int) -> bool:\n",
        "        return num % 2 == 0\n",
        "    return sum(x for x in li if is_even(x))\n",
        "\n",
        "numbers = [1, 2, 3, 4, 5, 6]\n",
        "print(sum_even(numbers))"
      ]
    },
    {
      "cell_type": "markdown",
      "metadata": {
        "id": "fceBNTpUnip6"
      },
      "source": [
        "### Task 4\n",
        "\n",
        "Let's create a function called `add_logging(func: Callable) -> Callable`. As you see from the signature, it takes in a function and returns a function, to be more specific. The new function must do precisely the same as the original `func`, but before the call, we want a log message in the console that the function is called.\n",
        "\n",
        "You can see how `add_logging` will be used below."
      ]
    },
    {
      "cell_type": "code",
      "execution_count": 8,
      "metadata": {
        "id": "VsoALrbBnsjs",
        "tags": [
          "task_4"
        ],
        "colab": {
          "base_uri": "https://localhost:8080/"
        },
        "outputId": "de93bf48-9fb4-4d5f-bf26-a00ce87ba748"
      },
      "outputs": [
        {
          "output_type": "stream",
          "name": "stdout",
          "text": [
            "function `my_func` called at 2024-04-07T11:16:16.012616\n",
            "2.5\n"
          ]
        }
      ],
      "source": [
        "import datetime\n",
        "\n",
        "def add_logging(func: Callable) -> Callable:\n",
        "    def wrapper(*args, **kwargs):\n",
        "        print(f\"function `{func.__name__}` called at {datetime.datetime.now().isoformat()}\")\n",
        "        return func(*args, **kwargs)\n",
        "    return wrapper\n",
        "\n",
        "def my_func(num: int) -> int:\n",
        "    return 0.1 * num ** 2\n",
        "\n",
        "my_func_with_log = add_logging(my_func)\n",
        "\n",
        "print(my_func_with_log(5))\n",
        "\n",
        "# should print something like:\n",
        "# function `my_func` called at 2024-01-26T14:30:00Z\n",
        "# 2.5"
      ]
    },
    {
      "cell_type": "markdown",
      "metadata": {
        "id": "YpehHVhuMOVj"
      },
      "source": [
        "### Task 5\n",
        "\n",
        "As you might have already guessed, we implemented a decorator `add_logging`. Use syntax sugar with `@` to apply it to your function called `some_function`."
      ]
    },
    {
      "cell_type": "code",
      "execution_count": 9,
      "metadata": {
        "tags": [
          "task_5"
        ],
        "id": "Yu5VutQkMOVk",
        "colab": {
          "base_uri": "https://localhost:8080/"
        },
        "outputId": "a2d025fc-9b2e-4fae-f688-15685cbf0ed0"
      },
      "outputs": [
        {
          "output_type": "stream",
          "name": "stdout",
          "text": [
            "function `some_function` called at 2024-04-07T11:18:04.111147\n"
          ]
        }
      ],
      "source": [
        "@add_logging\n",
        "def some_function():\n",
        "    pass\n",
        "\n",
        "some_function()\n",
        "# should print something like:\n",
        "# function `some_function` called at 2024-01-26T14:30:00Z"
      ]
    }
  ],
  "metadata": {
    "colab": {
      "provenance": [],
      "toc_visible": true
    },
    "kernelspec": {
      "display_name": "venv",
      "language": "python",
      "name": "python3"
    },
    "language_info": {
      "codemirror_mode": {
        "name": "ipython",
        "version": 3
      },
      "file_extension": ".py",
      "mimetype": "text/x-python",
      "name": "python",
      "nbconvert_exporter": "python",
      "pygments_lexer": "ipython3",
      "version": "3.11.5"
    },
    "orig_nbformat": 4
  },
  "nbformat": 4,
  "nbformat_minor": 0
}