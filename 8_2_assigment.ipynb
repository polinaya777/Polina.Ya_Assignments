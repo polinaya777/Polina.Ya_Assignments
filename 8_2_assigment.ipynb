{
  "cells": [
    {
      "cell_type": "markdown",
      "metadata": {
        "id": "ozOVKEIKm8aP"
      },
      "source": [
        "# Assignment 8.2\n",
        "\n",
        "> Replace all TODOs with your code.\n",
        ">\n",
        "> Do not change any other code and do not add/remove cells!"
      ]
    },
    {
      "cell_type": "markdown",
      "metadata": {
        "id": "GRPST61knD1_"
      },
      "source": [
        "## Inheritance"
      ]
    },
    {
      "cell_type": "markdown",
      "metadata": {
        "id": "TIeo4PGfnH_f"
      },
      "source": [
        "### Task 1\n",
        "\n",
        "Define a base class named `Account` to a general bank account.\n",
        "\n",
        "The class should include an initialization method (`__init__`), taking into account the number and holder name and methods for depositing money to the account and withdrawing from it. Do not forget to ensure that the account never has a negative balance.\n",
        "\n",
        "String representation (`__str__`) should be an abstract method (throw a corresponding error if it is called on the base `Account` class"
      ]
    },
    {
      "cell_type": "code",
      "execution_count": 1,
      "metadata": {
        "id": "es4kM6panjNB"
      },
      "outputs": [],
      "source": [
        "from abc import ABC, abstractmethod\n",
        "\n",
        "class Account(ABC):\n",
        "    def __init__(self, account_number, holder_name):\n",
        "        self.account_number = account_number\n",
        "        self.holder_name = holder_name\n",
        "        self.balance = 0.0\n",
        "\n",
        "    def deposit(self, amount):\n",
        "        if amount < 0:\n",
        "            raise ValueError(\"Deposit amount must be positive.\")\n",
        "        self.balance += amount\n",
        "\n",
        "    def withdraw(self, amount):\n",
        "        if amount < 0:\n",
        "            raise ValueError(\"Withdrawal amount must be positive.\")\n",
        "        if self.balance < amount:\n",
        "            raise ValueError(\"Insufficient balance.\")\n",
        "        self.balance -= amount\n",
        "\n",
        "    @abstractmethod\n",
        "    def __str__(self):\n",
        "        pass\n",
        ""
      ]
    },
    {
      "cell_type": "markdown",
      "metadata": {
        "id": "4FjqIBbCnqh3"
      },
      "source": [
        "### Task 2\n",
        "\n",
        "Derive a `CurrentAccount` subclass from the `Account` base class and provide its own implementation for the `__str__` method. The text representation should mention the type of account, account number, and remaining balance."
      ]
    },
    {
      "cell_type": "code",
      "execution_count": 2,
      "metadata": {
        "id": "VNhS9FjCr-_k"
      },
      "outputs": [],
      "source": [
        "class CurrentAccount(Account):\n",
        "    def __init__(self, account_number, holder_name):\n",
        "        super().__init__(account_number, holder_name)\n",
        "\n",
        "    def __str__(self):\n",
        "        return f\"Current Account - Account Number: {self.account_number}, Balance: {self.balance}\""
      ]
    },
    {
      "cell_type": "markdown",
      "metadata": {
        "id": "h-CdQzoOtjy6"
      },
      "source": [
        "### Task 3\n",
        "\n",
        "Derive a `SavingsAccount` subclass from the `Account` base class and provide its implementation for the `__str__` method. When initializing objects of this class, the caller must provide the `interest_rate` parameter.\n",
        "\n",
        " The text representation should mention the type of account, interest rate, account number, and remaining balance.\n",
        "\n",
        "Provide additional method `add_interest` that adds interest based on `interest_rate`:\n",
        "$$new\\_balance = old\\_balance + old\\_balance * interest\\_rate$$"
      ]
    },
    {
      "cell_type": "code",
      "execution_count": 3,
      "metadata": {
        "id": "akQXzV_vtweO"
      },
      "outputs": [],
      "source": [
        "class SavingsAccount(Account):\n",
        "    def __init__(self, account_number, holder_name, interest_rate):\n",
        "        super().__init__(account_number, holder_name)\n",
        "        self.interest_rate = interest_rate\n",
        "\n",
        "    def __str__(self):\n",
        "        return f\"Savings Account - Account Number: {self.account_number}, Interest Rate: {self.interest_rate}, Balance: {self.balance}\"\n",
        "\n",
        "    def add_interest(self):\n",
        "        self.balance += self.balance * self.interest_rate"
      ]
    },
    {
      "cell_type": "markdown",
      "metadata": {
        "id": "724_WyJry8i9"
      },
      "source": [
        "### Task 4\n",
        "\n",
        "Create an array with different accounts, add/withdraw money from some of them, iterate over the array, and print the text representation of each."
      ]
    },
    {
      "cell_type": "code",
      "execution_count": 7,
      "metadata": {
        "id": "BDZA3L25zZEo",
        "colab": {
          "base_uri": "https://localhost:8080/"
        },
        "outputId": "49964bfb-4df2-4a7b-ea6f-2592359eb39a"
      },
      "outputs": [
        {
          "output_type": "stream",
          "name": "stdout",
          "text": [
            "Current Account - Account Number: BE98765432, Balance: 300.0\n",
            "Savings Account - Account Number: BE12345678, Interest Rate: 0.05, Balance: 1050.0\n"
          ]
        }
      ],
      "source": [
        "accounts = []\n",
        "\n",
        "# Create CurrentAccount\n",
        "current_account = CurrentAccount(\"BE98765432\", \"Arnold Schwarzenegger\")\n",
        "current_account.deposit(500)\n",
        "current_account.withdraw(200)\n",
        "accounts.append(current_account)\n",
        "\n",
        "# Create SavingsAccount\n",
        "savings_account = SavingsAccount(\"BE12345678\", \"Milla Jovovich\", 0.05)\n",
        "savings_account.deposit(1000)\n",
        "savings_account.add_interest()\n",
        "accounts.append(savings_account)\n",
        "\n",
        "# Print accounts\n",
        "for account in accounts:\n",
        "    print(account)"
      ]
    }
  ],
  "metadata": {
    "colab": {
      "provenance": [],
      "toc_visible": true
    },
    "kernelspec": {
      "display_name": "Python 3",
      "name": "python3"
    },
    "language_info": {
      "name": "python"
    }
  },
  "nbformat": 4,
  "nbformat_minor": 0
}