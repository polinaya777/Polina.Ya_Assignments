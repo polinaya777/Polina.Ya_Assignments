{
  "cells": [
    {
      "cell_type": "markdown",
      "metadata": {
        "id": "-89_Z_je0cfL"
      },
      "source": [
        "# Assignment 4.2\n",
        "\n",
        "> Replace all TODOs with your code.\n",
        ">\n",
        "> Do not change any other code and do not add/remove cells!"
      ]
    },
    {
      "cell_type": "code",
      "execution_count": 2,
      "metadata": {
        "id": "4Zt3Ez5bCm1Q"
      },
      "outputs": [],
      "source": [
        "# Do not edit this cell\n",
        "\n",
        "from typing import List, Tuple"
      ]
    },
    {
      "cell_type": "markdown",
      "metadata": {
        "id": "w6E-GxTB0j4M"
      },
      "source": [
        "## Complexity"
      ]
    },
    {
      "cell_type": "markdown",
      "metadata": {
        "id": "iEwuf_DP0cfM"
      },
      "source": [
        "### Task 1\n",
        "\n",
        "For example, let's take a simple problem - find a maximum element in an input list. We know that the list is sorted in ascending order.\n",
        "\n",
        "Write a function `find_max(li: List[int]) -> int` that would return a maximum element of a sorted list `li`. You can assume `li` to be non-empty. As a last command of your cell, print the complexity of your algorithm. It should be one of:\n",
        "\n",
        "`{O(1), O(log n), O(n), O(nlog n), O(n^2), O(2^n)}`.\n",
        "\n",
        "Note: do not use `max` built-in function."
      ]
    },
    {
      "cell_type": "code",
      "execution_count": 5,
      "metadata": {
        "id": "IWVOCWxx0cfM",
        "tags": [
          "task_1"
        ],
        "colab": {
          "base_uri": "https://localhost:8080/"
        },
        "outputId": "167536e3-30c9-450b-d42d-effb0a3c4177"
      },
      "outputs": [
        {
          "output_type": "stream",
          "name": "stdout",
          "text": [
            "991\n",
            "Complexity: O(1)\n"
          ]
        }
      ],
      "source": [
        "def find_max(li: List[int]) -> int:\n",
        "    return li[-1]\n",
        "\n",
        "# Test\n",
        "print(find_max([2, 6, 9, 34, 67, 991]))\n",
        "\n",
        "print('Complexity: O(1)')"
      ]
    },
    {
      "cell_type": "markdown",
      "metadata": {
        "id": "2z8HqsaK0cfN"
      },
      "source": [
        "### Task 2\n",
        "\n",
        "The same problem, now we don't know anything about the order in `li`. What's the complexity then? Print it as the last command of the cell.\n",
        "\n",
        "Note: do not use `max` built-in function.\n"
      ]
    },
    {
      "cell_type": "code",
      "execution_count": 6,
      "metadata": {
        "id": "kva_9ycA0cfN",
        "tags": [
          "task_2"
        ],
        "colab": {
          "base_uri": "https://localhost:8080/"
        },
        "outputId": "b057fd0c-c717-4bc2-bd23-129817bbede0"
      },
      "outputs": [
        {
          "output_type": "stream",
          "name": "stdout",
          "text": [
            "991\n",
            "Complexity: O(n)\n"
          ]
        }
      ],
      "source": [
        "def find_max(li: List[int]) -> int:\n",
        "    max_value = li[0]\n",
        "    for number in li:\n",
        "        if number > max_value:\n",
        "            max_value = number\n",
        "    return max_value\n",
        "\n",
        "# Test\n",
        "print(find_max([2, 6, 9, 34, 67, 991, 54, 69, 48, 71]))\n",
        "\n",
        "print('Complexity: O(n)')"
      ]
    },
    {
      "cell_type": "markdown",
      "metadata": {
        "id": "IqjW7SGS0cfN"
      },
      "source": [
        "### Task 3\n",
        "\n",
        "Now we are playing the guessing game! The user guesses the number between 1 and `n`, and your program makes guesses. If the guess is higher than the initial number, the user enters '<', if the number is lower - '>'. If the guess is correct, a user enters 'bingo'.\n",
        "\n",
        "Implement the program to play the game. As a last command of your cell, print the complexity of your algorithm (or the worst-case number of guesses your program needs to make before the correct guess). It should be one of:\n",
        "\n",
        "`{O(1), O(log n), O(n), O(nlog n), O(n^2), O(2^n)}`."
      ]
    },
    {
      "cell_type": "code",
      "execution_count": 10,
      "metadata": {
        "id": "p83RQvA40cfN",
        "tags": [
          "task_3"
        ],
        "colab": {
          "base_uri": "https://localhost:8080/"
        },
        "outputId": "a9e38fa2-4580-49d5-9c2e-a08d47d798ea"
      },
      "outputs": [
        {
          "output_type": "stream",
          "name": "stdout",
          "text": [
            "My guess is: 50\n",
            "Enter '<', '>' or 'bingo': >\n",
            "My guess is: 75\n",
            "Enter '<', '>' or 'bingo': <\n",
            "My guess is: 62\n",
            "Enter '<', '>' or 'bingo': >\n",
            "My guess is: 68\n",
            "Enter '<', '>' or 'bingo': >\n",
            "My guess is: 71\n",
            "Enter '<', '>' or 'bingo': bingo\n",
            "Hooray! I've guessed your number!\n",
            "Complexity: O(log n)\n"
          ]
        }
      ],
      "source": [
        "n = 100\n",
        "\n",
        "a = 1\n",
        "b = n\n",
        "\n",
        "def guessing_game(low: int, high: int) -> None:\n",
        "    while True:\n",
        "        guess = (low + high) // 2\n",
        "        print(f\"My guess is: {guess}\")\n",
        "        response = input(\"Enter '<', '>' or 'bingo': \")\n",
        "        if response == 'bingo':\n",
        "            print(\"Hooray! I've guessed your number!\")\n",
        "            break\n",
        "        elif response == '<':\n",
        "            high = guess - 1\n",
        "        elif response == '>':\n",
        "            low = guess + 1\n",
        "        else:\n",
        "            print(\"Invalid response. Please enter '<', '>' or 'bingo'.\")\n",
        "\n",
        "guessing_game(a, b)\n",
        "\n",
        "print('Complexity: O(log n)')"
      ]
    }
  ],
  "metadata": {
    "colab": {
      "provenance": [],
      "toc_visible": true
    },
    "kernelspec": {
      "display_name": "venv",
      "language": "python",
      "name": "python3"
    },
    "language_info": {
      "codemirror_mode": {
        "name": "ipython",
        "version": 3
      },
      "file_extension": ".py",
      "mimetype": "text/x-python",
      "name": "python",
      "nbconvert_exporter": "python",
      "pygments_lexer": "ipython3",
      "version": "3.11.5"
    },
    "orig_nbformat": 4
  },
  "nbformat": 4,
  "nbformat_minor": 0
}