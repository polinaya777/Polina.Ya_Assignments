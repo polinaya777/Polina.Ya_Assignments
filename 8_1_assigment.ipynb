{
  "cells": [
    {
      "cell_type": "markdown",
      "metadata": {
        "id": "2_R_Ya7UhcB8"
      },
      "source": [
        "# Assignment 8.1\n",
        "\n",
        "> Replace all TODOs with your code.\n",
        ">\n",
        "> Do not change any other code and do not add/remove cells!"
      ]
    },
    {
      "cell_type": "markdown",
      "metadata": {
        "id": "N1SWwMSshfVz"
      },
      "source": [
        "## Classes"
      ]
    },
    {
      "cell_type": "markdown",
      "metadata": {
        "id": "OY8NxJ-CiePg"
      },
      "source": [
        "### Task 1\n",
        "\n",
        "Define a Python class named `Interval` with the following specifications:\n",
        "\n",
        "1. The class should have a constructor (\\_\\_init__) that takes two parameters, start and end, and initializes the interval with these values.\n",
        "2. Ensure that both start and end are numeric (either integers or floats).\n",
        "3. Ensure that the start value is less than or equal to the end value.\n",
        "4. Provide a \\_\\_str__ method to return a string representation of the interval in the format \"[start, end]\"."
      ]
    },
    {
      "cell_type": "code",
      "execution_count": 1,
      "metadata": {
        "id": "VBFmFWDXjQPT",
        "colab": {
          "base_uri": "https://localhost:8080/"
        },
        "outputId": "d91d6e59-2c62-4880-bc7e-52a02a1fb389"
      },
      "outputs": [
        {
          "output_type": "stream",
          "name": "stdout",
          "text": [
            "[1, 5]\n"
          ]
        }
      ],
      "source": [
        "class Interval:\n",
        "    def __init__(self, start, end):\n",
        "        if not isinstance(start, (int, float)) or not isinstance(end, (int, float)):\n",
        "            raise ValueError(\"Start and end values must be numeric.\")\n",
        "        if start > end:\n",
        "            raise ValueError(\"Start value must be less than or equal to end value.\")\n",
        "        self.start = start\n",
        "        self.end = end\n",
        "\n",
        "    def __str__(self):\n",
        "        return f\"[{self.start}, {self.end}]\"\n",
        "\n",
        "interval = Interval(1, 5)\n",
        "print(interval) # [1, 5]"
      ]
    },
    {
      "cell_type": "markdown",
      "metadata": {
        "id": "pJ72CYiylhIY"
      },
      "source": [
        "### Task 2\n",
        "\n",
        "Expand the Interval class by adding a method named `is_overlapping` that checks whether the current interval overlaps with another interval. The method should take another Interval object as a parameter and return `True` if there is an overlap and `False` otherwise."
      ]
    },
    {
      "cell_type": "code",
      "execution_count": 2,
      "metadata": {
        "id": "7t64cfMdl3qe",
        "colab": {
          "base_uri": "https://localhost:8080/"
        },
        "outputId": "415133b8-ce0f-4a2a-ec66-44f4e366028e"
      },
      "outputs": [
        {
          "output_type": "stream",
          "name": "stdout",
          "text": [
            "Do intervals overlap? True\n"
          ]
        }
      ],
      "source": [
        "class Interval:\n",
        "    def __init__(self, start, end):\n",
        "        if not isinstance(start, (int, float)) or not isinstance(end, (int, float)):\n",
        "            raise ValueError(\"Start and end values must be numeric.\")\n",
        "        if start > end:\n",
        "            raise ValueError(\"Start value must be less than or equal to end value.\")\n",
        "        self.start = start\n",
        "        self.end = end\n",
        "\n",
        "    def __str__(self):\n",
        "        return f\"[{self.start}, {self.end}]\"\n",
        "\n",
        "    def is_overlapping(self, other):\n",
        "        if not isinstance(other, Interval):\n",
        "            raise ValueError(\"Other must be an instance of Interval.\")\n",
        "        return not (self.end < other.start or self.start > other.end)\n",
        "\n",
        "interval1 = Interval(1, 5)\n",
        "interval2 = Interval(3, 8)\n",
        "\n",
        "overlap_result = interval1.is_overlapping(interval2)\n",
        "print(\"Do intervals overlap?\", overlap_result) # Do intervals overlap? True"
      ]
    },
    {
      "cell_type": "markdown",
      "metadata": {
        "id": "aelqtEfkni2N"
      },
      "source": [
        "### Task 3\n",
        "\n",
        "Expand the `Interval` class by adding a **static** method named `intersection_static` that calculates the intersection of two overlapping intervals. The static method should take two `Interval` objects as parameters and return a new `Interval` representing the intersection if there is one.\n",
        "\n",
        "The method should return `None` if the intervals do not overlap."
      ]
    },
    {
      "cell_type": "code",
      "execution_count": 3,
      "metadata": {
        "id": "E6DNMmTRoyNa",
        "colab": {
          "base_uri": "https://localhost:8080/"
        },
        "outputId": "849da7eb-d320-4542-bd54-5d9808a26a6d"
      },
      "outputs": [
        {
          "output_type": "stream",
          "name": "stdout",
          "text": [
            "Intersection result (static method): [3, 5]\n"
          ]
        }
      ],
      "source": [
        "class Interval:\n",
        "    def __init__(self, start, end):\n",
        "        if not isinstance(start, (int, float)) or not isinstance(end, (int, float)):\n",
        "            raise ValueError(\"Start and end values must be numeric.\")\n",
        "        if start > end:\n",
        "            raise ValueError(\"Start value must be less than or equal to end value.\")\n",
        "        self.start = start\n",
        "        self.end = end\n",
        "\n",
        "    def __str__(self):\n",
        "        return f\"[{self.start}, {self.end}]\"\n",
        "\n",
        "    def is_overlapping(self, other):\n",
        "        if not isinstance(other, Interval):\n",
        "            raise ValueError(\"Other must be an instance of Interval.\")\n",
        "        return not (self.end < other.start or self.start > other.end)\n",
        "\n",
        "    @staticmethod\n",
        "    def intersection_static(interval1, interval2):\n",
        "        if not isinstance(interval1, Interval) or not isinstance(interval2, Interval):\n",
        "            raise ValueError(\"Both parameters must be instances of Interval.\")\n",
        "        if interval1.is_overlapping(interval2):\n",
        "            return Interval(max(interval1.start, interval2.start), min(interval1.end, interval2.end))\n",
        "        else:\n",
        "            return None\n",
        "\n",
        "interval1 = Interval(1, 5)\n",
        "interval2 = Interval(3, 8)\n",
        "\n",
        "intersection_result_static = Interval.intersection_static(interval1, interval2)\n",
        "print(\"Intersection result (static method):\", intersection_result_static) # Intersection result (static method): [3, 5]"
      ]
    },
    {
      "cell_type": "markdown",
      "metadata": {
        "id": "xGh7oQHFtsSl"
      },
      "source": [
        "### Task 4\n",
        "\n",
        "Expand the `Interval` class by overloading a math operator \"&\" to calculate the intersection of two overlapping intervals. Define the logic for the intersection using the method from the previous task."
      ]
    },
    {
      "cell_type": "code",
      "execution_count": 4,
      "metadata": {
        "id": "3f3CiUlGu1cq",
        "colab": {
          "base_uri": "https://localhost:8080/"
        },
        "outputId": "fb32a1f5-240c-4943-8c9a-b8e2552127bf"
      },
      "outputs": [
        {
          "output_type": "stream",
          "name": "stdout",
          "text": [
            "Intersection result: [3, 5]\n"
          ]
        }
      ],
      "source": [
        "class Interval:\n",
        "    def __init__(self, start, end):\n",
        "        if not isinstance(start, (int, float)) or not isinstance(end, (int, float)):\n",
        "            raise ValueError(\"Start and end values must be numeric.\")\n",
        "        if start > end:\n",
        "            raise ValueError(\"Start value must be less than or equal to end value.\")\n",
        "        self.start = start\n",
        "        self.end = end\n",
        "\n",
        "    def __str__(self):\n",
        "        return f\"[{self.start}, {self.end}]\"\n",
        "\n",
        "    def is_overlapping(self, other):\n",
        "        if not isinstance(other, Interval):\n",
        "            raise ValueError(\"Other must be an instance of Interval.\")\n",
        "        return not (self.end < other.start or self.start > other.end)\n",
        "\n",
        "    @staticmethod\n",
        "    def intersection_static(interval1, interval2):\n",
        "        if not isinstance(interval1, Interval) or not isinstance(interval2, Interval):\n",
        "            raise ValueError(\"Both parameters must be instances of Interval.\")\n",
        "        if interval1.is_overlapping(interval2):\n",
        "            return Interval(max(interval1.start, interval2.start), min(interval1.end, interval2.end))\n",
        "        else:\n",
        "            return None\n",
        "\n",
        "    def __and__(self, other):\n",
        "        return Interval.intersection_static(self, other)\n",
        "\n",
        "\n",
        "interval1 = Interval(1, 5)\n",
        "interval2 = Interval(3, 8)\n",
        "\n",
        "intersection_result = interval1 & interval2\n",
        "print(\"Intersection result:\", intersection_result) # Intersection result: [3, 5]"
      ]
    },
    {
      "cell_type": "markdown",
      "metadata": {
        "id": "51BGij2Tvoka"
      },
      "source": [
        "### Task 5\n",
        "\n",
        "Expand the `Interval` class by adding a static method named `union_static` that calculates the union of two overlapping intervals. The static method should take two Interval objects as parameters and return a new Interval representing the union if there is one.\n",
        "\n",
        "The method should return `None` if the intervals do not overlap."
      ]
    },
    {
      "cell_type": "code",
      "execution_count": 5,
      "metadata": {
        "id": "Xnm1CbK8v2v1",
        "colab": {
          "base_uri": "https://localhost:8080/"
        },
        "outputId": "92e5663f-eb1d-42f2-c98e-d44521708ce6"
      },
      "outputs": [
        {
          "output_type": "stream",
          "name": "stdout",
          "text": [
            "Union Result (Static method): [1, 8]\n"
          ]
        }
      ],
      "source": [
        "class Interval:\n",
        "    def __init__(self, start, end):\n",
        "        if not isinstance(start, (int, float)) or not isinstance(end, (int, float)):\n",
        "            raise ValueError(\"Start and end values must be numeric.\")\n",
        "        if start > end:\n",
        "            raise ValueError(\"Start value must be less than or equal to end value.\")\n",
        "        self.start = start\n",
        "        self.end = end\n",
        "\n",
        "    def __str__(self):\n",
        "        return f\"[{self.start}, {self.end}]\"\n",
        "\n",
        "    def is_overlapping(self, other):\n",
        "        if not isinstance(other, Interval):\n",
        "            raise ValueError(\"Other must be an instance of Interval.\")\n",
        "        return not (self.end < other.start or self.start > other.end)\n",
        "\n",
        "    @staticmethod\n",
        "    def intersection_static(interval1, interval2):\n",
        "        if not isinstance(interval1, Interval) or not isinstance(interval2, Interval):\n",
        "            raise ValueError(\"Both parameters must be instances of Interval.\")\n",
        "        if interval1.is_overlapping(interval2):\n",
        "            return Interval(max(interval1.start, interval2.start), min(interval1.end, interval2.end))\n",
        "        else:\n",
        "            return None\n",
        "\n",
        "    def __and__(self, other):\n",
        "        return Interval.intersection_static(self, other)\n",
        "\n",
        "    @staticmethod\n",
        "    def union_static(interval1, interval2):\n",
        "        if not isinstance(interval1, Interval) or not isinstance(interval2, Interval):\n",
        "            raise ValueError(\"Both parameters must be instances of Interval.\")\n",
        "        if interval1.is_overlapping(interval2):\n",
        "            return Interval(min(interval1.start, interval2.start), max(interval1.end, interval2.end))\n",
        "        else:\n",
        "            return None\n",
        "\n",
        "interval1 = Interval(1, 5)\n",
        "interval2 = Interval(3, 8)\n",
        "\n",
        "union_result_static = Interval.union_static(interval1, interval2)\n",
        "print(\"Union Result (Static method):\", union_result_static) # Union Result (Static method): [1, 8]"
      ]
    },
    {
      "cell_type": "markdown",
      "metadata": {
        "id": "5yGYlKjCwbzr"
      },
      "source": [
        "### Task 6\n",
        "\n",
        "Expand the `Interval` class by overloading a math operator \"|\" to calculate the union  of two overlapping intervals. Define the logic for the union using the method from the previous task."
      ]
    },
    {
      "cell_type": "code",
      "execution_count": 6,
      "metadata": {
        "id": "xjCgPAy5wu1Z",
        "colab": {
          "base_uri": "https://localhost:8080/"
        },
        "outputId": "74ec30ed-ffe2-46ea-89ac-03f991a2027c"
      },
      "outputs": [
        {
          "output_type": "stream",
          "name": "stdout",
          "text": [
            "Union Result: [1, 8]\n"
          ]
        }
      ],
      "source": [
        "class Interval:\n",
        "    def __init__(self, start, end):\n",
        "        if not isinstance(start, (int, float)) or not isinstance(end, (int, float)):\n",
        "            raise ValueError(\"Start and end values must be numeric.\")\n",
        "        if start > end:\n",
        "            raise ValueError(\"Start value must be less than or equal to end value.\")\n",
        "        self.start = start\n",
        "        self.end = end\n",
        "\n",
        "    def __str__(self):\n",
        "        return f\"[{self.start}, {self.end}]\"\n",
        "\n",
        "    def is_overlapping(self, other):\n",
        "        if not isinstance(other, Interval):\n",
        "            raise ValueError(\"Other must be an instance of Interval.\")\n",
        "        return not (self.end < other.start or self.start > other.end)\n",
        "\n",
        "    @staticmethod\n",
        "    def intersection_static(interval1, interval2):\n",
        "        if not isinstance(interval1, Interval) or not isinstance(interval2, Interval):\n",
        "            raise ValueError(\"Both parameters must be instances of Interval.\")\n",
        "        if interval1.is_overlapping(interval2):\n",
        "            return Interval(max(interval1.start, interval2.start), min(interval1.end, interval2.end))\n",
        "        else:\n",
        "            return None\n",
        "\n",
        "    def __and__(self, other):\n",
        "        return Interval.intersection_static(self, other)\n",
        "\n",
        "    @staticmethod\n",
        "    def union_static(interval1, interval2):\n",
        "        if not isinstance(interval1, Interval) or not isinstance(interval2, Interval):\n",
        "            raise ValueError(\"Both parameters must be instances of Interval.\")\n",
        "        if interval1.is_overlapping(interval2):\n",
        "            return Interval(min(interval1.start, interval2.start), max(interval1.end, interval2.end))\n",
        "        else:\n",
        "            return None\n",
        "\n",
        "    def __or__(self, other):\n",
        "        return Interval.union_static(self, other)\n",
        "\n",
        "\n",
        "interval1 = Interval(1, 5)\n",
        "interval2 = Interval(3, 8)\n",
        "\n",
        "union_result = interval1 | interval2\n",
        "print(\"Union Result:\", union_result) # Union Result: [1, 8]"
      ]
    },
    {
      "cell_type": "markdown",
      "metadata": {
        "id": "N-hiSBEK0fbz"
      },
      "source": [
        "### Task 7 (optional)\n",
        "\n",
        "Expand the `Interval` class by overloading the \"-\" operator to calculate the difference between two intervals. The method should return a new `Interval` representing the portion of the first interval that is not in the second."
      ]
    },
    {
      "cell_type": "code",
      "execution_count": 9,
      "metadata": {
        "id": "YZ5AqAXr002L",
        "colab": {
          "base_uri": "https://localhost:8080/"
        },
        "outputId": "01b57820-f215-47b7-a399-c766b58d17cd"
      },
      "outputs": [
        {
          "output_type": "stream",
          "name": "stdout",
          "text": [
            "Difference Result: [1, 2]\n",
            "Difference Result: [6, 8]\n"
          ]
        }
      ],
      "source": [
        "class Interval:\n",
        "    def __init__(self, start, end):\n",
        "        if not isinstance(start, (int, float)) or not isinstance(end, (int, float)):\n",
        "            raise ValueError(\"Start and end values must be numeric.\")\n",
        "        if start > end:\n",
        "            raise ValueError(\"Start value must be less than or equal to end value.\")\n",
        "        self.start = start\n",
        "        self.end = end\n",
        "\n",
        "    def __str__(self):\n",
        "        return f\"[{self.start}, {self.end}]\"\n",
        "\n",
        "    def is_overlapping(self, other):\n",
        "        if not isinstance(other, Interval):\n",
        "            raise ValueError(\"Other must be an instance of Interval.\")\n",
        "        return not (self.end < other.start or self.start > other.end)\n",
        "\n",
        "    @staticmethod\n",
        "    def intersection_static(interval1, interval2):\n",
        "        if not isinstance(interval1, Interval) or not isinstance(interval2, Interval):\n",
        "            raise ValueError(\"Both parameters must be instances of Interval.\")\n",
        "        if interval1.is_overlapping(interval2):\n",
        "            return Interval(max(interval1.start, interval2.start), min(interval1.end, interval2.end))\n",
        "        else:\n",
        "            return None\n",
        "\n",
        "    def __and__(self, other):\n",
        "        return Interval.intersection_static(self, other)\n",
        "\n",
        "    @staticmethod\n",
        "    def union_static(interval1, interval2):\n",
        "        if not isinstance(interval1, Interval) or not isinstance(interval2, Interval):\n",
        "            raise ValueError(\"Both parameters must be instances of Interval.\")\n",
        "        if interval1.is_overlapping(interval2):\n",
        "            return Interval(min(interval1.start, interval2.start), max(interval1.end, interval2.end))\n",
        "        else:\n",
        "            return None\n",
        "\n",
        "    def __or__(self, other):\n",
        "        return Interval.union_static(self, other)\n",
        "\n",
        "    def __sub__(self, other):\n",
        "        if not isinstance(other, Interval):\n",
        "            raise ValueError(\"Other must be an instance of Interval.\")\n",
        "\n",
        "        # Overlap on the left side of self\n",
        "        if other.start <= self.start < other.end < self.end:\n",
        "            return Interval(other.end+1, self.end)\n",
        "\n",
        "        # Overlap on the right side of self\n",
        "        elif self.start < other.start < self.end <= other.end:\n",
        "            return Interval(self.start, other.start-1)\n",
        "\n",
        "        # Other\n",
        "        else:\n",
        "            return None\n",
        "\n",
        "\n",
        "interval1 = Interval(1, 5)\n",
        "interval2 = Interval(3, 8)\n",
        "\n",
        "print(\"Difference Result:\", interval1 - interval2) # Union Result: [1, 2]\n",
        "print(\"Difference Result:\", interval2 - interval1) # Union Result: [6, 8]"
      ]
    }
  ],
  "metadata": {
    "colab": {
      "provenance": [],
      "toc_visible": true
    },
    "kernelspec": {
      "display_name": "Python 3",
      "name": "python3"
    },
    "language_info": {
      "name": "python"
    }
  },
  "nbformat": 4,
  "nbformat_minor": 0
}