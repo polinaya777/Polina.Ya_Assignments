{
  "cells": [
    {
      "cell_type": "markdown",
      "metadata": {
        "id": "-89_Z_je0cfL"
      },
      "source": [
        "# Assignment 6.2\n",
        "\n",
        "> Replace all TODOs with your code.\n",
        ">\n",
        "> Do not change any other code and do not add/remove cells!"
      ]
    },
    {
      "cell_type": "markdown",
      "metadata": {
        "id": "w6E-GxTB0j4M"
      },
      "source": [
        "## Module and packages\n",
        "\n",
        "As in the previous assignment, we need to work with the filesystem, and Jupyter Notebook is not the best format for this. So once again, you will have a series of tasks to complete yourself: create a git repository and publish it to Github as the last task of the assignment."
      ]
    },
    {
      "cell_type": "markdown",
      "metadata": {
        "id": "iEwuf_DP0cfM"
      },
      "source": [
        "### Task 1\n",
        "\n",
        "Such a mess! You were given a file that contain temperature measurements, but there are two measurement units used: Celsius and Fahrenheit. We need to fix it! In a programmer's way (meaning that we would automate this one-time task with a script).\n",
        "\n",
        "For the example file contents, you can use the following data:\n",
        "```\n",
        "Date,Reading\n",
        "2024-01-01,\"10°C\"\n",
        "2024-01-01,\"70°F\"\n",
        "2024-01-01,\"15°C\"\n",
        "2024-01-01,\"62°F\"\n",
        "2024-01-01,\"15°C\"\n",
        "2024-01-01,\"17°C\"\n",
        "2024-01-01,\"15°C\"\n",
        "2024-01-01,\"61°F\"\n",
        "```\n",
        "Create two modules: `main` and `temperature`."
      ]
    },
    {
      "cell_type": "markdown",
      "metadata": {
        "id": "2z8HqsaK0cfN"
      },
      "source": [
        "### Task 2\n",
        "\n",
        "`temperature` module should implement two functions of converting Celsius to Fahrenheit and vice versa, as we don't know which way we'll need to convert.\n",
        "\n",
        "You may use these formulas:\n",
        "\n",
        "$$C = \\frac{5}{9} (F-32)$$\n",
        "\n",
        "Derive the formula for another direction."
      ]
    },
    {
      "cell_type": "markdown",
      "metadata": {
        "id": "IqjW7SGS0cfN"
      },
      "source": [
        "### Task 3\n",
        "\n",
        "Module `main` should read the data file (you can use module `csv` from the previous week), convert the temperature (set target temperature as a function argument), and write to the output file."
      ]
    },
    {
      "cell_type": "markdown",
      "metadata": {
        "id": "fceBNTpUnip6"
      },
      "source": [
        "### Task 4\n",
        "\n",
        "Now, the file has changed and also includes the distance from the Earth for each reading. As you might have guessed, the distance is given in meters and feet.\n",
        "\n",
        "```\n",
        "Date,Distance,Reading\n",
        "2024-01-01,\"41m\",\"10°C\"\n",
        "2024-01-01,\"151ft\",\"70°F\"\n",
        "2024-01-01,\"15m\",\"15°C\"\n",
        "2024-01-01,\"100ft\",\"62°F\"\n",
        "2024-01-01,\"31m\",\"15°C\"\n",
        "2024-01-01,\"21m\",\"17°C\"\n",
        "2024-01-01,\"10m\",\"15°C\"\n",
        "2024-01-01,\"10ft\",\"61°F\"\n",
        "```\n",
        "\n",
        "Create module `distance` to convert between these units using this formula:\n",
        "\n",
        "$$meters = feet × 0.3048$$"
      ]
    },
    {
      "cell_type": "markdown",
      "metadata": {
        "id": "D6wrtN2En3D3"
      },
      "source": [
        "### Task 5\n",
        "\n",
        "To better structure the program for further (forecasted) conversions, let's create a package `convertor` that, for now, will include modules `temperature` and `distance.`"
      ]
    },
    {
      "cell_type": "markdown",
      "metadata": {
        "id": "COm3M8ekn3D3"
      },
      "source": [
        "### Task 6\n",
        "\n",
        "Create a repository on your personal Github and make it public. Commit all the files to the repo and push them to Github.\n",
        "\n",
        "As a submission, paste the link in the following cell."
      ]
    },
    {
      "cell_type": "markdown",
      "metadata": {
        "tags": [
          "task_6"
        ],
        "id": "RzugUB15n3D4"
      },
      "source": [
        "[My repo](https://github.com/)"
      ]
    }
  ],
  "metadata": {
    "colab": {
      "provenance": []
    },
    "kernelspec": {
      "display_name": "venv",
      "language": "python",
      "name": "python3"
    },
    "language_info": {
      "codemirror_mode": {
        "name": "ipython",
        "version": 3
      },
      "file_extension": ".py",
      "mimetype": "text/x-python",
      "name": "python",
      "nbconvert_exporter": "python",
      "pygments_lexer": "ipython3",
      "version": "3.11.5"
    },
    "orig_nbformat": 4
  },
  "nbformat": 4,
  "nbformat_minor": 0
}